{
  "nbformat": 4,
  "nbformat_minor": 0,
  "metadata": {
    "colab": {
      "name": "pinns.ipynb",
      "provenance": [],
      "collapsed_sections": []
    },
    "kernelspec": {
      "display_name": "Python 3",
      "name": "python3"
    },
    "language_info": {
      "name": "python"
    }
  },
  "cells": [
    {
      "cell_type": "code",
      "metadata": {
        "id": "QSGFP9jOdj0K"
      },
      "source": [
        "import numpy as np\n",
        "import pandas as pd\n",
        "import tensorflow as tf\n",
        "import matplotlib.pyplot as plt\n",
        "from keras.datasets import boston_housing\n",
        "from keras import models\n",
        "from keras import layers\n",
        "from google.colab import files\n",
        "import io\n",
        "from sklearn.model_selection import train_test_split"
      ],
      "execution_count": null,
      "outputs": []
    },
    {
      "cell_type": "code",
      "metadata": {
        "id": "1JdLnrkMKUQu"
      },
      "source": [
        "#(train_data, train_targets), (test_data, test_targets) = boston_housing.load_data()"
      ],
      "execution_count": null,
      "outputs": []
    },
    {
      "cell_type": "code",
      "metadata": {
        "id": "dJTs7HZctat4"
      },
      "source": [
        "uploaded = files.upload()"
      ],
      "execution_count": null,
      "outputs": []
    },
    {
      "cell_type": "code",
      "metadata": {
        "colab": {
          "base_uri": "https://localhost:8080/",
          "height": 238
        },
        "id": "sDaDhZiNslrE",
        "outputId": "3b8cab94-9aed-472b-fa04-be9f48b50093"
      },
      "source": [
        "path = io.StringIO(uploaded[\"ddataset.csv\"].decode('utf-8'))\n",
        "df = pd.read_csv(path, sep=';')\n",
        "dataset = df.values\n",
        "df.head()\n",
        "#dataset.shape[0] = 89000 \n",
        "#dataset.shape[1] = 11\n"
      ],
      "execution_count": 94,
      "outputs": [
        {
          "output_type": "stream",
          "text": [
            "/usr/local/lib/python3.7/dist-packages/IPython/core/interactiveshell.py:2718: DtypeWarning: Columns (5) have mixed types.Specify dtype option on import or set low_memory=False.\n",
            "  interactivity=interactivity, compiler=compiler, result=result)\n"
          ],
          "name": "stderr"
        },
        {
          "output_type": "execute_result",
          "data": {
            "text/html": [
              "<div>\n",
              "<style scoped>\n",
              "    .dataframe tbody tr th:only-of-type {\n",
              "        vertical-align: middle;\n",
              "    }\n",
              "\n",
              "    .dataframe tbody tr th {\n",
              "        vertical-align: top;\n",
              "    }\n",
              "\n",
              "    .dataframe thead th {\n",
              "        text-align: right;\n",
              "    }\n",
              "</style>\n",
              "<table border=\"1\" class=\"dataframe\">\n",
              "  <thead>\n",
              "    <tr style=\"text-align: right;\">\n",
              "      <th></th>\n",
              "      <th>time</th>\n",
              "      <th>dx</th>\n",
              "      <th>D</th>\n",
              "      <th>teta</th>\n",
              "      <th>alpha_gn</th>\n",
              "      <th>alpha_ln</th>\n",
              "      <th>ugn</th>\n",
              "      <th>uln</th>\n",
              "      <th>rho_gn</th>\n",
              "      <th>rho_ln</th>\n",
              "      <th>p</th>\n",
              "    </tr>\n",
              "  </thead>\n",
              "  <tbody>\n",
              "    <tr>\n",
              "      <th>0</th>\n",
              "      <td>0,08198779</td>\n",
              "      <td>11,5</td>\n",
              "      <td>0,205</td>\n",
              "      <td>-1,57079633</td>\n",
              "      <td>0</td>\n",
              "      <td>1</td>\n",
              "      <td>0,70132392</td>\n",
              "      <td>0,70132392</td>\n",
              "      <td>13,42057803</td>\n",
              "      <td>1200,642571</td>\n",
              "      <td>1623197,947</td>\n",
              "    </tr>\n",
              "    <tr>\n",
              "      <th>1</th>\n",
              "      <td>0,08198779</td>\n",
              "      <td>23</td>\n",
              "      <td>0,205</td>\n",
              "      <td>-1,57079633</td>\n",
              "      <td>0</td>\n",
              "      <td>0,99999866</td>\n",
              "      <td>0</td>\n",
              "      <td>0,62627216</td>\n",
              "      <td>12,85535905</td>\n",
              "      <td>1200,61268</td>\n",
              "      <td>1500093,254</td>\n",
              "    </tr>\n",
              "    <tr>\n",
              "      <th>2</th>\n",
              "      <td>0,08198779</td>\n",
              "      <td>34,5</td>\n",
              "      <td>0,205</td>\n",
              "      <td>-1,57079633</td>\n",
              "      <td>0</td>\n",
              "      <td>1</td>\n",
              "      <td>0</td>\n",
              "      <td>0,55821197</td>\n",
              "      <td>11,77749234</td>\n",
              "      <td>1200,555678</td>\n",
              "      <td>1388438,579</td>\n",
              "    </tr>\n",
              "    <tr>\n",
              "      <th>3</th>\n",
              "      <td>0,08198779</td>\n",
              "      <td>46</td>\n",
              "      <td>0,205</td>\n",
              "      <td>-1,57079633</td>\n",
              "      <td>0</td>\n",
              "      <td>1</td>\n",
              "      <td>0</td>\n",
              "      <td>0,49647915</td>\n",
              "      <td>10,7998801</td>\n",
              "      <td>1200,503978</td>\n",
              "      <td>1287169,307</td>\n",
              "    </tr>\n",
              "    <tr>\n",
              "      <th>4</th>\n",
              "      <td>0,08198779</td>\n",
              "      <td>57,5</td>\n",
              "      <td>0,205</td>\n",
              "      <td>-1,57079633</td>\n",
              "      <td>0</td>\n",
              "      <td>1</td>\n",
              "      <td>0</td>\n",
              "      <td>0,44048541</td>\n",
              "      <td>9,91320134</td>\n",
              "      <td>1200,457087</td>\n",
              "      <td>1195319,944</td>\n",
              "    </tr>\n",
              "  </tbody>\n",
              "</table>\n",
              "</div>"
            ],
            "text/plain": [
              "         time    dx      D  ...       rho_gn       rho_ln            p\n",
              "0  0,08198779  11,5  0,205  ...  13,42057803  1200,642571  1623197,947\n",
              "1  0,08198779    23  0,205  ...  12,85535905   1200,61268  1500093,254\n",
              "2  0,08198779  34,5  0,205  ...  11,77749234  1200,555678  1388438,579\n",
              "3  0,08198779    46  0,205  ...   10,7998801  1200,503978  1287169,307\n",
              "4  0,08198779  57,5  0,205  ...   9,91320134  1200,457087  1195319,944\n",
              "\n",
              "[5 rows x 11 columns]"
            ]
          },
          "metadata": {
            "tags": []
          },
          "execution_count": 94
        }
      ]
    },
    {
      "cell_type": "code",
      "metadata": {
        "id": "ESKvOD4xZueg"
      },
      "source": [
        "X = np.arange(dataset.shape[0] * (dataset.shape[1] - 1)).reshape((dataset.shape[0], dataset.shape[1] - 1))\n",
        "y = range(dataset.shape[0])\n",
        "X_train, X_test, y_train, y_test = train_test_split(X, y, test_size=0.33, random_state=42)\n",
        "\n",
        "X_train = np.array(X_train).astype(np.float32)\n",
        "X_test = np.array(X_test).astype(np.float32)\n",
        "\n",
        "y_train = np.array(y_train).astype(np.float32)\n",
        "y_test = np.array(y_test).astype(np.float32)\n",
        "X_train.shape, y_train.shape, X_test.shape, y_test.shape"
      ],
      "execution_count": null,
      "outputs": []
    },
    {
      "cell_type": "code",
      "metadata": {
        "id": "NWTQABjYd67R"
      },
      "source": [
        "mean = X_train.mean(axis=0)\n",
        "X_train -= mean\n",
        "std = X_train.std(axis=0)\n",
        "X_train /= std\n",
        "\n",
        "X_test -= mean\n",
        "X_test /= std"
      ],
      "execution_count": null,
      "outputs": []
    },
    {
      "cell_type": "code",
      "metadata": {
        "id": "_PYbkHGCl_Ai"
      },
      "source": [
        "def loss_fn(y_true, y_pred):\n",
        "    squared_difference = tf.square(y_true - y_pred)\n",
        "    return tf.reduce_mean(squared_difference, axis=-1)"
      ],
      "execution_count": null,
      "outputs": []
    },
    {
      "cell_type": "code",
      "metadata": {
        "id": "smfQFIGHeTBK"
      },
      "source": [
        "model = models.Sequential()\n",
        "model.add(layers.Dense(64, activation='relu', input_shape=(X_train.shape[1],)))\n",
        "model.add(layers.Dense(64, activation='relu'))\n",
        "model.add(layers.Dense(1))\n",
        "\n",
        "model.compile(optimizer='adam', loss=loss_fn, metrics=['mae'])"
      ],
      "execution_count": null,
      "outputs": []
    },
    {
      "cell_type": "code",
      "metadata": {
        "id": "nQCnx6Epj1K0"
      },
      "source": [
        "model.summary()"
      ],
      "execution_count": null,
      "outputs": []
    },
    {
      "cell_type": "code",
      "metadata": {
        "id": "ow3a3WTTeg8R"
      },
      "source": [
        "model.fit(X_train, y_train, epochs=80, batch_size=16, verbose=1)"
      ],
      "execution_count": null,
      "outputs": []
    },
    {
      "cell_type": "code",
      "metadata": {
        "id": "9sMeWflFejiS"
      },
      "source": [
        "test_mse_score, test_mae_score = model.evaluate(X_test, y_test)"
      ],
      "execution_count": null,
      "outputs": []
    },
    {
      "cell_type": "code",
      "metadata": {
        "id": "Rrc32J67e4vL"
      },
      "source": [
        "test_mae_score"
      ],
      "execution_count": null,
      "outputs": []
    }
  ]
}